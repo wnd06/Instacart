{
 "cells": [
  {
   "cell_type": "code",
   "execution_count": 1,
   "id": "d7ebfda8-feb4-4ba2-b3e5-fe646192978f",
   "metadata": {},
   "outputs": [],
   "source": [
    "import pandas as pd\n",
    "from imblearn.over_sampling import SMOTE\n",
    "from sklearn.model_selection import train_test_split\n",
    "from sklearn.metrics import f1_score, accuracy_score\n",
    "from lightgbm import LGBMClassifier\n",
    "from sklearn.ensemble import RandomForestClassifier, GradientBoostingClassifier\n",
    "from sklearn.linear_model import LogisticRegression\n",
    "from sklearn.ensemble import StackingClassifier\n",
    "from sklearn.pipeline import Pipeline\n",
    "from sklearn.preprocessing import StandardScaler\n",
    "from sklearn.utils import resample"
   ]
  },
  {
   "cell_type": "code",
   "execution_count": 3,
   "id": "bc8a39fc-ddb4-4e56-b979-1f325e957f58",
   "metadata": {},
   "outputs": [],
   "source": [
    "df = pd.read_csv('./data/merge.csv')"
   ]
  },
  {
   "cell_type": "code",
   "execution_count": 5,
   "id": "db95109f-93a8-4c0b-88e1-7fabbefc7fef",
   "metadata": {},
   "outputs": [],
   "source": [
    "del df['eval_set']"
   ]
  },
  {
   "cell_type": "code",
   "execution_count": 7,
   "id": "d5837ebc-f16c-4ea9-b867-7222c9f5d27e",
   "metadata": {},
   "outputs": [],
   "source": [
    "df2 = df.copy()\n",
    "df2.drop(columns = ['product_name', 'aisle', 'department', 'order_dow', 'order_hour_of_day', 'product_id', 'aisle_id',\n",
    "       'department_id'], axis=1, inplace=True)"
   ]
  },
  {
   "cell_type": "code",
   "execution_count": 9,
   "id": "ac09079d-ebc9-469e-a804-2ea995032858",
   "metadata": {},
   "outputs": [
    {
     "data": {
      "text/plain": [
       "(32434489, 11)"
      ]
     },
     "execution_count": 9,
     "metadata": {},
     "output_type": "execute_result"
    }
   ],
   "source": [
    "df2.shape"
   ]
  },
  {
   "cell_type": "code",
   "execution_count": 17,
   "id": "2115506f-fee5-4b52-86f6-a67bfe015f51",
   "metadata": {},
   "outputs": [],
   "source": [
    "grade_mapping = {'VIP': 4, '최우수': 3, '우수': 2, '일반': 1, '이탈 위험':0}\n",
    "df2['grade'] = df2['grade'].map(grade_mapping)"
   ]
  },
  {
   "cell_type": "code",
   "execution_count": 19,
   "id": "b7b49570-376b-4d98-9558-cb4fb527fc2f",
   "metadata": {},
   "outputs": [],
   "source": [
    "# `reordered`가 0인 데이터와 1인 데이터의 비율을 맞추기 위해 SMOTE 적용\n",
    "X = df2.drop('reordered_x', axis = 1)\n",
    "y = df2['reordered_x']\n",
    "\n",
    "# SMOTE로 오버샘플링 (클래스 1에 대해)\n",
    "# smote = SMOTE(random_state=42)\n",
    "# X_resampled, y_resampled = smote.fit_resample(X, y)\n",
    "\n",
    "# 학습용 데이터와 테스트용 데이터 나누기 (80% 학습, 20% 테스트)\n",
    "X_train, X_test, y_train, y_test = train_test_split(X, y, test_size=0.3, random_state=42)"
   ]
  },
  {
   "cell_type": "code",
   "execution_count": 21,
   "id": "f9e17ca0-3f74-4b77-8019-6f1dba4c56fc",
   "metadata": {},
   "outputs": [
    {
     "name": "stdout",
     "output_type": "stream",
     "text": [
      "[LightGBM] [Info] Number of positive: 13392089, number of negative: 9312053\n",
      "[LightGBM] [Info] Auto-choosing row-wise multi-threading, the overhead of testing was 0.078637 seconds.\n",
      "You can set `force_row_wise=true` to remove the overhead.\n",
      "And if memory is not enough, you can set `force_col_wise=true`.\n",
      "[LightGBM] [Info] Total Bins 1196\n",
      "[LightGBM] [Info] Number of data points in the train set: 22704142, number of used features: 10\n",
      "[LightGBM] [Info] [binary:BoostFromScore]: pavg=0.500000 -> initscore=0.000000\n",
      "[LightGBM] [Info] Start training from score 0.000000\n",
      "F1 Score: 0.7809504015625088\n",
      "Accuracy: 0.7411242373987279\n",
      "precision_score: 0.7788804456125646\n",
      "recall_score: 0.7830313890772729\n",
      "Classification Report:\n",
      "               precision    recall  f1-score   support\n",
      "\n",
      "           0       0.69      0.68      0.68   3995900\n",
      "           1       0.78      0.78      0.78   5734447\n",
      "\n",
      "    accuracy                           0.74   9730347\n",
      "   macro avg       0.73      0.73      0.73   9730347\n",
      "weighted avg       0.74      0.74      0.74   9730347\n",
      "\n"
     ]
    }
   ],
   "source": [
    "from sklearn.metrics import classification_report\n",
    "from sklearn.metrics import precision_score, recall_score\n",
    "\n",
    "pipeline = Pipeline([\n",
    "    ('classifier', LGBMClassifier(class_weight='balanced', random_state=42, n_jobs=-1))\n",
    "])\n",
    "\n",
    "pipeline.fit(X_train, y_train)\n",
    "\n",
    "y_pred = pipeline.predict(X_test)\n",
    "\n",
    "# 예측 결과 평가\n",
    "print(\"F1 Score:\", f1_score(y_test, y_pred))\n",
    "print(\"Accuracy:\", accuracy_score(y_test, y_pred))\n",
    "print(\"precision_score:\", precision_score(y_test, y_pred))\n",
    "print(\"recall_score:\", recall_score(y_test, y_pred))\n",
    "print(\"Classification Report:\\n\", classification_report(y_test, y_pred))"
   ]
  },
  {
   "cell_type": "code",
   "execution_count": 23,
   "id": "dd828ca2-e691-4155-a957-d11c89d8587c",
   "metadata": {},
   "outputs": [
    {
     "name": "stdout",
     "output_type": "stream",
     "text": [
      "F1 Score: 0.8036290734785234\n",
      "Accuracy: 0.7506624378349508\n",
      "precision score: 0.7498553721941829\n",
      "recall score: 0.8657110267127763\n",
      "Classification Report:\n",
      "               precision    recall  f1-score   support\n",
      "\n",
      "           0       0.75      0.59      0.66   3995900\n",
      "           1       0.75      0.87      0.80   5734447\n",
      "\n",
      "    accuracy                           0.75   9730347\n",
      "   macro avg       0.75      0.73      0.73   9730347\n",
      "weighted avg       0.75      0.75      0.74   9730347\n",
      "\n"
     ]
    }
   ],
   "source": [
    "from catboost import CatBoostClassifier\n",
    "from sklearn.pipeline import Pipeline\n",
    "\n",
    "# 모델 파이프라인 구성 (CatBoostClassifier만 사용)\n",
    "pipeline = Pipeline([\n",
    "    ('classifier', CatBoostClassifier(random_state=42, verbose=0))\n",
    "])\n",
    "\n",
    "# 모델 학습\n",
    "pipeline.fit(X_train, y_train)\n",
    "\n",
    "# 모델 평가\n",
    "y_pred = pipeline.predict(X_test)\n",
    "\n",
    "# 예측 결과 평가\n",
    "print(\"F1 Score:\", f1_score(y_test, y_pred))\n",
    "print(\"Accuracy:\", accuracy_score(y_test, y_pred))\n",
    "print(\"precision score:\", precision_score(y_test, y_pred))\n",
    "print(\"recall score:\", recall_score(y_test, y_pred))\n",
    "print(\"Classification Report:\\n\", classification_report(y_test, y_pred))"
   ]
  },
  {
   "cell_type": "code",
   "execution_count": 25,
   "id": "3da94101-eedf-4f60-97c7-7c37395a02e9",
   "metadata": {},
   "outputs": [
    {
     "name": "stdout",
     "output_type": "stream",
     "text": [
      "F1 Score: 0.8036718852102668\n",
      "Accuracy: 0.7512846150296593\n",
      "precision score: 0.7513811568041503\n",
      "recall score: 0.8637851217388529\n",
      "Classification Report:\n",
      "               precision    recall  f1-score   support\n",
      "\n",
      "           0       0.75      0.59      0.66   3995900\n",
      "           1       0.75      0.86      0.80   5734447\n",
      "\n",
      "    accuracy                           0.75   9730347\n",
      "   macro avg       0.75      0.73      0.73   9730347\n",
      "weighted avg       0.75      0.75      0.74   9730347\n",
      "\n"
     ]
    }
   ],
   "source": [
    "from xgboost import XGBClassifier\n",
    "from sklearn.pipeline import Pipeline\n",
    "import numpy as np\n",
    "\n",
    "\n",
    "# XGBoost 파이프라인 구성\n",
    "pipeline = Pipeline([\n",
    "    ('classifier', XGBClassifier(random_state=42, n_jobs=-1, max_depth=10))\n",
    "])\n",
    "\n",
    "# 모델 학습\n",
    "pipeline.fit(X_train, y_train)\n",
    "\n",
    "# 모델 평가\n",
    "y_pred = pipeline.predict(X_test)\n",
    "\n",
    "# 예측 결과 평가\n",
    "print(\"F1 Score:\", f1_score(y_test, y_pred))\n",
    "print(\"Accuracy:\", accuracy_score(y_test, y_pred))\n",
    "print(\"precision score:\", precision_score(y_test, y_pred))\n",
    "print(\"recall score:\", recall_score(y_test, y_pred))\n",
    "print(\"Classification Report:\\n\", classification_report(y_test, y_pred))"
   ]
  },
  {
   "cell_type": "code",
   "execution_count": null,
   "id": "0c28917a-a7e8-4b08-8513-5ed3478116e9",
   "metadata": {},
   "outputs": [],
   "source": []
  }
 ],
 "metadata": {
  "kernelspec": {
   "display_name": "Python 3 (ipykernel)",
   "language": "python",
   "name": "python3"
  },
  "language_info": {
   "codemirror_mode": {
    "name": "ipython",
    "version": 3
   },
   "file_extension": ".py",
   "mimetype": "text/x-python",
   "name": "python",
   "nbconvert_exporter": "python",
   "pygments_lexer": "ipython3",
   "version": "3.12.4"
  }
 },
 "nbformat": 4,
 "nbformat_minor": 5
}
